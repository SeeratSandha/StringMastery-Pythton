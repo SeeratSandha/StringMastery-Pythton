{
  "nbformat": 4,
  "nbformat_minor": 0,
  "metadata": {
    "colab": {
      "provenance": [],
      "include_colab_link": true
    },
    "kernelspec": {
      "name": "python3",
      "display_name": "Python 3"
    },
    "language_info": {
      "name": "python"
    }
  },
  "cells": [
    {
      "cell_type": "markdown",
      "metadata": {
        "id": "view-in-github",
        "colab_type": "text"
      },
      "source": [
        "<a href=\"https://colab.research.google.com/github/SeeratSandha/StringMastery-Pythton/blob/main/String%20Mastery.ipynb\" target=\"_parent\"><img src=\"https://colab.research.google.com/assets/colab-badge.svg\" alt=\"Open In Colab\"/></a>"
      ]
    },
    {
      "cell_type": "code",
      "execution_count": null,
      "metadata": {
        "id": "l1Wipqrmk6KQ",
        "colab": {
          "base_uri": "https://localhost:8080/"
        },
        "outputId": "097bfe43-231b-42c4-b12e-00bff2268bae"
      },
      "outputs": [
        {
          "output_type": "stream",
          "name": "stdout",
          "text": [
            "Enter the String : asdfghjkl\n",
            "The String in Lower case :  asdfghjkl\n",
            "The String in Upper Case :  ASDFGHJKL\n",
            "The number of vowels used in word :  1\n",
            "False : The string doesnot contain any repeated characters/letters.\n"
          ]
        }
      ],
      "source": [
        "# Assignment name : String Mastery\n",
        "# Author : Seerat Sandha\n",
        "def working_on_string ():\n",
        "  userInput = str(input(\"Enter the String : \"))\n",
        "  count=0\n",
        "  a=\"\"\n",
        "  lowerCase = userInput.lower()\n",
        "  print(\"The String in Lower case : \" ,lowerCase)\n",
        "  upperCase = userInput.upper()\n",
        "  print(\"The String in Upper Case : \" , upperCase)\n",
        "\n",
        "\n",
        "  for q in userInput:\n",
        "    if q =='a':\n",
        "      count = count+1\n",
        "    elif q=='A':\n",
        "       count = count+1\n",
        "    if q=='e':\n",
        "      count=count+1\n",
        "    elif q=='E':\n",
        "       count=count+1\n",
        "    if q=='i':\n",
        "      count=count+1\n",
        "    elif q=='I':\n",
        "       count=count+1\n",
        "    if q=='o':\n",
        "      count=count+1\n",
        "    elif q=='O':\n",
        "       count=count+1\n",
        "    if q=='u':\n",
        "      count=count+1\n",
        "    elif q=='U':\n",
        "       count=count+1\n",
        "\n",
        "  print(\"The number of vowels used in word : \" ,count )\n",
        "\n",
        "\n",
        "  userInput=userInput.replace(\" \",\"\")\n",
        "\n",
        "  for i in userInput:\n",
        "      if i not in a:\n",
        "       a=a+i\n",
        "  if(a==userInput):\n",
        "    print(\"False : The string doesnot contain any repeated characters/letters.\")\n",
        "  else:\n",
        "    print(\"True : The string contain repeated characters/letters  .\")\n",
        "\n",
        "working_on_string()"
      ]
    }
  ]
}